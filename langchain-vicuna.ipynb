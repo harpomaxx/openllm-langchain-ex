{
 "cells": [
  {
   "cell_type": "code",
   "execution_count": 1,
   "metadata": {},
   "outputs": [],
   "source": [
    "from langchain.chat_models import ChatOpenAI\n",
    "from langchain.document_loaders import TextLoader\n",
    "from langchain.embeddings import OpenAIEmbeddings\n",
    "from langchain.indexes import VectorstoreIndexCreator"
   ]
  },
  {
   "cell_type": "code",
   "execution_count": 8,
   "metadata": {},
   "outputs": [
    {
     "data": {
      "text/plain": [
       "True"
      ]
     },
     "execution_count": 8,
     "metadata": {},
     "output_type": "execute_result"
    }
   ],
   "source": [
    "from dotenv import load_dotenv\n",
    "load_dotenv()\n"
   ]
  },
  {
   "cell_type": "code",
   "execution_count": 22,
   "metadata": {},
   "outputs": [
    {
     "data": {
      "text/plain": [
       "<bound method BaseModel.dict of OpenAIEmbeddings(client=<class 'openai.api_resources.embedding.Embedding'>, model='text-embedding-ada-002', deployment='text-embedding-ada-002', openai_api_version=None, openai_api_base=None, openai_api_type=None, openai_proxy=None, embedding_ctx_length=8191, openai_api_key=None, openai_organization=None, allowed_special=set(), disallowed_special='all', chunk_size=1000, max_retries=6, request_timeout=None, headers=None)>"
      ]
     },
     "execution_count": 22,
     "metadata": {},
     "output_type": "execute_result"
    }
   ],
   "source": [
    "\n",
    "embedding = OpenAIEmbeddings(model=\"text-embedding-ada-002\")\n"
   ]
  },
  {
   "cell_type": "code",
   "execution_count": 20,
   "metadata": {},
   "outputs": [
    {
     "data": {
      "text/plain": [
       "1000"
      ]
     },
     "execution_count": 20,
     "metadata": {},
     "output_type": "execute_result"
    }
   ],
   "source": [
    "embedding.chunk_size"
   ]
  },
  {
   "cell_type": "code",
   "execution_count": 12,
   "metadata": {},
   "outputs": [],
   "source": [
    "loader = TextLoader(\"./state_of_the_union.txt\")\n"
   ]
  },
  {
   "cell_type": "code",
   "execution_count": 16,
   "metadata": {},
   "outputs": [],
   "source": [
    "index = VectorstoreIndexCreator(embedding=embedding).from_loaders([loader])\n"
   ]
  },
  {
   "cell_type": "code",
   "execution_count": 21,
   "metadata": {},
   "outputs": [
    {
     "data": {
      "text/plain": [
       "VectorStoreIndexWrapper(vectorstore=<langchain.vectorstores.chroma.Chroma object at 0x7f20cd813bb0>)"
      ]
     },
     "execution_count": 21,
     "metadata": {},
     "output_type": "execute_result"
    }
   ],
   "source": [
    "index"
   ]
  },
  {
   "cell_type": "code",
   "execution_count": 17,
   "metadata": {},
   "outputs": [],
   "source": [
    "llm = ChatOpenAI(model=\"gpt-3.5-turbo\")\n",
    " \n"
   ]
  },
  {
   "cell_type": "code",
   "execution_count": 18,
   "metadata": {},
   "outputs": [],
   "source": [
    "questions = [\n",
    "    \"Who is the speaker\",\n",
    "    \"What did the president say about Ketanji Brown Jackson\",\n",
    "    \"What are the threats to America\",\n",
    "    \"Who are mentioned in the speech\",\n",
    "    \"Who is the vice president\",\n",
    "    \"How many projects were announced\",\n",
    "]\n"
   ]
  },
  {
   "cell_type": "code",
   "execution_count": 19,
   "metadata": {},
   "outputs": [
    {
     "name": "stdout",
     "output_type": "stream",
     "text": [
      "Query: Who is the speaker\n",
      "Answer: The speaker is not specified in the text provided.\n",
      "Query: What did the president say about Ketanji Brown Jackson\n",
      "Answer: I'm sorry, but I don't know.\n",
      "Query: What are the threats to America\n",
      "Answer: As an AI language model, I do not have personal opinions or beliefs. However, I can provide you with some information and perspectives on the threats to America:\n",
      "\n",
      "1. Terrorism: Terrorism is a persistent threat to America, with groups such as al-Qaeda, ISIS, and homegrown extremists continuing to plot attacks.\n",
      "2. Cyber Attacks: Cyber attacks pose a significant threat to America's critical infrastructure, including power plants, financial institutions, and government agencies.\n",
      "3. Natural Disasters: America is prone to natural disasters such as hurricanes, earthquakes, wildfires, and floods, which can cause significant damage and loss of life.\n",
      "4. Public Health Emergencies: America faces a range of public health threats, including infectious diseases, pandemics, and bioterrorism.\n",
      "5. Political Instability: Political instability in other countries can have a spillover effect on America, including terrorist attacks, economic disruptions, and security threats.\n",
      "6. Climate Change: Climate change poses a significant threat to America's economy, environment, and public health, including extreme weather events, sea level rise, and drought.\n",
      "7. Economic Instability: America faces economic challenges such as income inequality, student debt, and a growing national debt, which can impact the country's stability and prosperity.\n",
      "\n",
      "It is important to note that these threats are not exhaustive and may evolve over time. It is essential for America to maintain a strong national defense, invest in research and development, and foster international cooperation to address these threats effectively.\n",
      "Query: Who are mentioned in the speech\n",
      "Answer: The following individuals are mentioned in the speech:\n",
      "\n",
      "* Ukrainian Ambassador to the United States\n",
      "* Ukrainian people\n",
      "* President Zelenskyy\n",
      "* European Parliament\n",
      "* NATO Alliance\n",
      "* European nations\n",
      "* Russian President Vladimir Putin\n",
      "* Ukrainian Americans\n",
      "Query: Who is the vice president\n",
      "Answer: I do not know.\n",
      "Query: How many projects were announced\n",
      "Answer: As of my knowledge cutoff date of September 2021, there are no specific numbers of projects that were announced in the speech. However, the speech does mention that the government has provided free vaccines, treatments, tests, and masks to Americans and that these tools have helped to reduce hospitalizations. Additionally, the President mentions that the government has sent 475 million vaccine doses to 112 countries, which suggests that there have been a significant number of vaccine doses distributed.\n"
     ]
    }
   ],
   "source": [
    "\n",
    "for query in questions:\n",
    "    print(\"Query:\", query)\n",
    "    print(\"Answer:\", index.query(query, llm=llm))"
   ]
  },
  {
   "cell_type": "code",
   "execution_count": null,
   "metadata": {},
   "outputs": [],
   "source": []
  }
 ],
 "metadata": {
  "kernelspec": {
   "display_name": "langchain",
   "language": "python",
   "name": "python3"
  },
  "language_info": {
   "codemirror_mode": {
    "name": "ipython",
    "version": 3
   },
   "file_extension": ".py",
   "mimetype": "text/x-python",
   "name": "python",
   "nbconvert_exporter": "python",
   "pygments_lexer": "ipython3",
   "version": "3.10.9"
  },
  "orig_nbformat": 4
 },
 "nbformat": 4,
 "nbformat_minor": 2
}
